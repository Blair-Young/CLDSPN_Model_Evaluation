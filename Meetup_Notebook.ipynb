{
  "cells": [
    {
      "metadata": {
        "_uuid": "f4276743a94942a424c228453b1b4783bf9b934f"
      },
      "cell_type": "markdown",
      "source": "# Diagnosing data science models using evaluation metics"
    },
    {
      "metadata": {
        "_uuid": "d310f6a1632b75cac2d72d4cf3bf5f93193186be"
      },
      "cell_type": "markdown",
      "source": "## <center> [Central London Data Science Project Nights](https://www.meetup.com/central_london_data_science/)</center>\n\nIn this notebook we will start to build an intuition into how to use and analyse evaluation metrics with real data use cases.\n\n**Lets get started!**"
    },
    {
      "metadata": {
        "_uuid": "9ba6bd2e9c6c6cbc32b94735784d01d255ae83af"
      },
      "cell_type": "markdown",
      "source": "### Task\nRun the cell below to load modules needed for tonights exercise."
    },
    {
      "metadata": {
        "trusted": true,
        "_uuid": "07285038da33d1c34c7caf284e86d0299cfd6c7d"
      },
      "cell_type": "code",
      "source": "import pandas as pd\nimport numpy as np\nfrom IPython.core.display import Image\n\n# We can display plots in the notebook using this line of code\n%matplotlib inline",
      "execution_count": 4,
      "outputs": []
    },
    {
      "metadata": {
        "_uuid": "982e14cd455552a000079f33e0596c0dae4a9ea8"
      },
      "cell_type": "markdown",
      "source": "### Set the scene\n\nYour colleuge has just finshed coding up the first iteration of a new machine learning **classification** model. The product acts a prescreening procedure for disease detection based on a patients gene expression.\n\nThis model is crucial to the business and they've put you in charge of evaluation. ** *Yikes* **!\n\nNever fear, we'll break down each step of the evaluation phase and deliver our insights."
    },
    {
      "metadata": {
        "_uuid": "2768b40dc906e918ee915aa5a63660a8a0a22035"
      },
      "cell_type": "markdown",
      "source": "### Task\nLets load in the results from the experiment our collegue ran."
    },
    {
      "metadata": {
        "trusted": true,
        "_uuid": "dde3ac475915690d4da5c03be550c47c7e228bf4",
        "_kg_hide-input": false
      },
      "cell_type": "code",
      "source": "initial_evaluation = pd.read_csv('../input/task_1_data_meetup.csv')",
      "execution_count": 5,
      "outputs": []
    },
    {
      "metadata": {
        "trusted": true,
        "_uuid": "0c1158e2feb2c08a20bc56bd4a5af34ed5ff7388"
      },
      "cell_type": "code",
      "source": "initial_evaluation.head()",
      "execution_count": 6,
      "outputs": [
        {
          "output_type": "execute_result",
          "execution_count": 6,
          "data": {
            "text/plain": "   predicted  expected\n0          0         1\n1          1         1\n2          1         1\n3          1         1\n4          1         1",
            "text/html": "<div>\n<style scoped>\n    .dataframe tbody tr th:only-of-type {\n        vertical-align: middle;\n    }\n\n    .dataframe tbody tr th {\n        vertical-align: top;\n    }\n\n    .dataframe thead th {\n        text-align: right;\n    }\n</style>\n<table border=\"1\" class=\"dataframe\">\n  <thead>\n    <tr style=\"text-align: right;\">\n      <th></th>\n      <th>predicted</th>\n      <th>expected</th>\n    </tr>\n  </thead>\n  <tbody>\n    <tr>\n      <th>0</th>\n      <td>0</td>\n      <td>1</td>\n    </tr>\n    <tr>\n      <th>1</th>\n      <td>1</td>\n      <td>1</td>\n    </tr>\n    <tr>\n      <th>2</th>\n      <td>1</td>\n      <td>1</td>\n    </tr>\n    <tr>\n      <th>3</th>\n      <td>1</td>\n      <td>1</td>\n    </tr>\n    <tr>\n      <th>4</th>\n      <td>1</td>\n      <td>1</td>\n    </tr>\n  </tbody>\n</table>\n</div>"
          },
          "metadata": {}
        }
      ]
    },
    {
      "metadata": {
        "_uuid": "32d0b30fda62c867bd74f3a8b89c11e2d44ac4f5"
      },
      "cell_type": "markdown",
      "source": "In the talk we've discussed that there are two ways to be right and two ways to be wrong with regards to binary classification:\n* **True Positives**- Model predicts the **presence** of the disease, when the disease is **present** in a patient.\n* **True Negatives**- Model predicts the **absence** of the disease, when the disease is **absent** in a patient.\n* **False Positives**- Model predicts the **presence** of the disease, when the disease is **absent** from the patient.\n* **False Negatives**- Model predicts the **absence** of the disease, when the disease is **present** in a patient.\n![](https://github.com/Blair-Young/CLDSPN_Model_Evaluation/blob/master/images/tp_tn_fp_fn.jpg?raw=true)\n"
    },
    {
      "metadata": {
        "_uuid": "2eba69cc7e3ca3989fb648a24c123783aa29cc45"
      },
      "cell_type": "markdown",
      "source": "### Task\nThis function will help you retrieve the True positives, True negatives, False positives and False negatives from the experiment.\n\nComplete the following code.\n\n#### Remember!\n* Disease **presence** is indicated by **1**.\n* Disease **absence** is indicatred by **0**."
    },
    {
      "metadata": {
        "trusted": true,
        "_uuid": "ad39eab9b0462bab22600f884b53703cf07c2abe"
      },
      "cell_type": "code",
      "source": "def get_TP_TN_FP_FN(df):\n    \n    true_positives = 0\n    true_negatives = 0\n    false_positives = 0\n    false_negatives = 0\n    \n    for i, row in df.iterrows():\n        expected = row['expected']\n        predicted = row['predicted']\n        \n        # True_postitives\n        if predicted == None and expected == None:\n            true_positives+=1\n\n        # True_negatives\n        elif predicted == None and expected == None:\n            true_negatives+=1\n\n        # False_positives\n        elif predicted == None and expected == None:\n            false_positives+=1\n        \n        # False_negatives\n        elif predicted == None and expected == None:\n            false_negatives+=1\n        \n    return true_positives, true_negatives, false_positives, false_negatives",
      "execution_count": 7,
      "outputs": []
    },
    {
      "metadata": {
        "trusted": true,
        "_uuid": "b5014c41a78e2c9e170870e5f06bb40efdaf8438"
      },
      "cell_type": "code",
      "source": "true_positives, true_negatives, false_positives, false_negatives = get_TP_TN_FP_FN(initial_evaluation)\nprint('Number of true positives - {}'.format(true_positives))\nprint('Number of true negatives - {}'.format(true_negatives))\nprint('Number of false positives - {}'.format(false_positives))\nprint('Number of false negatives - {}'.format(false_negatives))",
      "execution_count": 8,
      "outputs": [
        {
          "output_type": "stream",
          "text": "Number of true positives - 0\nNumber of true negatives - 0\nNumber of false positives - 0\nNumber of false negatives - 0\n",
          "name": "stdout"
        }
      ]
    },
    {
      "metadata": {
        "_uuid": "69f0f6467aa9869da10f77f0576fc81bd3f4c53a"
      },
      "cell_type": "markdown",
      "source": "#### Expected output\n* Number of true positives - 25\n* Number of true negatives - 41\n* Number of false positives - 24\n* Number of false negatives - 10"
    },
    {
      "metadata": {
        "_uuid": "18a467fe86231768d6637a4ad63100f94548ffab"
      },
      "cell_type": "markdown",
      "source": "We can also build our confusion matrix, be careful about the order in this one!"
    },
    {
      "metadata": {
        "trusted": true,
        "_uuid": "34d6ec23b41c4c7c898646fc110bf42eec7ee5b2"
      },
      "cell_type": "code",
      "source": "confusion_matrix = pd.crosstab(initial_evaluation['predicted'], initial_evaluation['expected'],\n                               colnames=['Predicted'], rownames=['Expected'], margins=True)\nconfusion_matrix",
      "execution_count": 9,
      "outputs": [
        {
          "output_type": "execute_result",
          "execution_count": 9,
          "data": {
            "text/plain": "Predicted   0   1  All\nExpected              \n0          41  10   51\n1          24  25   49\nAll        65  35  100",
            "text/html": "<div>\n<style scoped>\n    .dataframe tbody tr th:only-of-type {\n        vertical-align: middle;\n    }\n\n    .dataframe tbody tr th {\n        vertical-align: top;\n    }\n\n    .dataframe thead th {\n        text-align: right;\n    }\n</style>\n<table border=\"1\" class=\"dataframe\">\n  <thead>\n    <tr style=\"text-align: right;\">\n      <th>Predicted</th>\n      <th>0</th>\n      <th>1</th>\n      <th>All</th>\n    </tr>\n    <tr>\n      <th>Expected</th>\n      <th></th>\n      <th></th>\n      <th></th>\n    </tr>\n  </thead>\n  <tbody>\n    <tr>\n      <th>0</th>\n      <td>41</td>\n      <td>10</td>\n      <td>51</td>\n    </tr>\n    <tr>\n      <th>1</th>\n      <td>24</td>\n      <td>25</td>\n      <td>49</td>\n    </tr>\n    <tr>\n      <th>All</th>\n      <td>65</td>\n      <td>35</td>\n      <td>100</td>\n    </tr>\n  </tbody>\n</table>\n</div>"
          },
          "metadata": {}
        }
      ]
    },
    {
      "metadata": {
        "_uuid": "00293019db2383afeca1b754c877e2e2424e7e7e"
      },
      "cell_type": "markdown",
      "source": "### Metrics\nNow we've tallied up our models scores lets gain insight by analysing the evaluation metrics!"
    },
    {
      "metadata": {
        "_uuid": "aa6eceed09cad84c79e68f7b4244f3aa7389b292"
      },
      "cell_type": "markdown",
      "source": "### Task \nLet's calculate the **accuracy** of our model.\n\nHere's the formula to help you out.\n![]( https://github.com/Blair-Young/CLDSPN_Model_Evaluation/blob/master/images/accuracy.png?raw=true)"
    },
    {
      "metadata": {
        "trusted": true,
        "_uuid": "957cfcc5db9c205542d9b350b039fa7a04f290a1"
      },
      "cell_type": "code",
      "source": "def accuracy(TP, TN, FP, FN):\n    return",
      "execution_count": 18,
      "outputs": []
    },
    {
      "metadata": {
        "trusted": true,
        "_uuid": "e1e3efca368c00214c5bc715e1e9e93916c24824"
      },
      "cell_type": "code",
      "source": "accuracy_results = accuracy(true_positives, true_negatives, false_positives, false_negatives)\nprint('Model accuracy- {}'.format(accuracy_results))",
      "execution_count": 19,
      "outputs": [
        {
          "output_type": "stream",
          "text": "Model accuracy- None\n",
          "name": "stdout"
        }
      ]
    },
    {
      "metadata": {
        "_uuid": "960290cf8474c0ab6ff95a8864f1b4a02003c0ff"
      },
      "cell_type": "markdown",
      "source": "#### Expected output:\n* Model accuracy- 0.66"
    },
    {
      "metadata": {
        "_uuid": "949c21b8ba573e7335b9e48035a03c825c97edfa"
      },
      "cell_type": "markdown",
      "source": "### Task\nRelying on a single metric can be dangerous, let's introduce **recall**.\n![](https://github.com/Blair-Young/CLDSPN_Model_Evaluation/blob/master/images/recall.png?raw=True)"
    },
    {
      "metadata": {
        "trusted": true,
        "_uuid": "cae858275ea0f1064d89d461924e0e30cde157d8"
      },
      "cell_type": "code",
      "source": "def recall(TP, FN):\n    return",
      "execution_count": 20,
      "outputs": []
    },
    {
      "metadata": {
        "trusted": true,
        "_uuid": "9d5394bdb0965341b793547113e9449adb56b18c"
      },
      "cell_type": "code",
      "source": "recall_results = recall(true_positives, false_negatives)\nprint('Model recall- {}'.format(recall_results))",
      "execution_count": 21,
      "outputs": [
        {
          "output_type": "stream",
          "text": "Model recall- None\n",
          "name": "stdout"
        }
      ]
    },
    {
      "metadata": {
        "_uuid": "c644196837896f8519baf3a8d1ffbeb0996acb67"
      },
      "cell_type": "markdown",
      "source": "#### Expected Output\nModel recall- 0.7142857142857143\n"
    },
    {
      "metadata": {
        "_uuid": "2dc8c50c02bdbd1460946d4e9b814ded75acad9c"
      },
      "cell_type": "markdown",
      "source": "### Task\nLets see how the model fairs in terms of **precision**.\n![](https://github.com/Blair-Young/CLDSPN_Model_Evaluation/blob/master/images/precision.png?raw=True)"
    },
    {
      "metadata": {
        "trusted": true,
        "_uuid": "eedc98bfcf86839878f84c8b33cab2b78f6067d2"
      },
      "cell_type": "code",
      "source": "def precision(TP, FP):\n    return",
      "execution_count": 22,
      "outputs": []
    },
    {
      "metadata": {
        "trusted": true,
        "_uuid": "837eff9ba397d4be816b5dd21142a953946a1075"
      },
      "cell_type": "code",
      "source": "precision_results = precision(true_positives, false_positives)\nprint('Model precision- {}'.format(precision_results))",
      "execution_count": 23,
      "outputs": [
        {
          "output_type": "stream",
          "text": "Model precision- None\n",
          "name": "stdout"
        }
      ]
    },
    {
      "metadata": {
        "_uuid": "f75b403c9425b9b12407f9f9a3bd88599e9dc3a7"
      },
      "cell_type": "markdown",
      "source": "#### Expected output\n* Model precision- 0.5102040816326531\n"
    },
    {
      "metadata": {
        "_uuid": "422517f406f38ba3c2454a17708829b2784ec008"
      },
      "cell_type": "markdown",
      "source": "### Task\nHmmmm not amazing, this is saying that the quality of predicts is kind of rubbish.\n\nLet's see if our model performs well generally speaking, we'll use the **F1 score**.\n![](https://github.com/Blair-Young/CLDSPN_Model_Evaluation/blob/master/images/f1.png?raw=True)"
    },
    {
      "metadata": {
        "trusted": true,
        "_uuid": "be7271aea24a110ebc214756c87088becb83aa47"
      },
      "cell_type": "code",
      "source": "def F1(precision_result, recall_result):\n    return None",
      "execution_count": 24,
      "outputs": []
    },
    {
      "metadata": {
        "trusted": true,
        "_uuid": "151852c491d717f86efc033511ab700f53bbe8cb"
      },
      "cell_type": "code",
      "source": "f1_results = F1(precision_results, recall_results)\nprint('Model F1- {}'.format(f1_results))",
      "execution_count": 25,
      "outputs": [
        {
          "output_type": "stream",
          "text": "Model F1- None\n",
          "name": "stdout"
        }
      ]
    },
    {
      "metadata": {
        "_uuid": "459a69e3ad08d941780a7c2f8a7447be35317344"
      },
      "cell_type": "markdown",
      "source": "#### Expected output\nModel F1- 0.5952380952380952"
    },
    {
      "metadata": {
        "trusted": true,
        "_uuid": "12aee5e033d778f934f1cea532bebced25a69da2"
      },
      "cell_type": "code",
      "source": "print('Summary')\nprint('Accuracy- {}'.format(accuracy_results))\nprint('Recall- {}'.format(recall_results))\nprint('Precision- {}'.format(precision_results))\nprint('F1 score- {}'.format(f1_results))",
      "execution_count": 26,
      "outputs": [
        {
          "output_type": "stream",
          "text": "Summary\nAccuracy- None\nRecall- None\nPrecision- None\nF1 score- None\n",
          "name": "stdout"
        }
      ]
    },
    {
      "metadata": {
        "_uuid": "539d2284c2c93cba32d77e8b73cf21b568c64e01"
      },
      "cell_type": "markdown",
      "source": "### Initial thoughts\nAfer looking at the evaluation metrics we can see the initial model doesn't perform very well, we know that our problem requires **high recall**, maybe we can improve this metric as well as overall model performance.\n\nYou break the bad news to your collegue, they let out a big sigh and go back to the drawing board.\n\n*Oh dear* :S"
    },
    {
      "metadata": {
        "_uuid": "ee124765266bbdc48e2e606f0597e802ee2b09ea"
      },
      "cell_type": "markdown",
      "source": "### Task\n10 minutes later your collegue comes by your workstation with a big grin, \"Best recall you'll ever see!\" they state.\n\nFantastic! Lets pass the new predicted values into our evalation functions."
    },
    {
      "metadata": {
        "trusted": true,
        "_uuid": "618f2c5391bf661693bcea5c8afa2c6372ed2755"
      },
      "cell_type": "code",
      "source": "new_model_data = pd.read_csv('../input/recall_data_meetup.csv')\ntrue_positives, true_negatives, false_positives, false_negatives = get_TP_TN_FP_FN(new_model_data)\n",
      "execution_count": 27,
      "outputs": []
    },
    {
      "metadata": {
        "trusted": true,
        "_uuid": "701be44b68a0f7f96f45b65263b9b3adebad9dca"
      },
      "cell_type": "code",
      "source": "new_recall_results = recall(true_positives, false_negatives)\nprint('New model recall - {}'.format(new_recall_results))",
      "execution_count": 28,
      "outputs": [
        {
          "output_type": "stream",
          "text": "New model recall - None\n",
          "name": "stdout"
        }
      ]
    },
    {
      "metadata": {
        "_uuid": "44993ddb502f5b062d16fb98bcbc0dc658b7e220"
      },
      "cell_type": "markdown",
      "source": "#### Expected output\nNew model recall - 1.0\n"
    },
    {
      "metadata": {
        "_uuid": "0832049e24c2e31d6824da72c0fed1b9a298aa1e"
      },
      "cell_type": "markdown",
      "source": "### Task\nLooks great! 1!\n\n**Best recall in the land!**\n\nThis is a bit *suspicious* though... \n\nLet's see how well the model performs with other metrics"
    },
    {
      "metadata": {
        "trusted": true,
        "_uuid": "98dfa3dd56e4903f0277fd8b1e8893f4660b3816"
      },
      "cell_type": "code",
      "source": "new_precision_results = precision(None, None)\nprint('New model precision- {}'.format(new_precision_results))",
      "execution_count": 30,
      "outputs": [
        {
          "output_type": "stream",
          "text": "New model precision- None\n",
          "name": "stdout"
        }
      ]
    },
    {
      "metadata": {
        "_uuid": "82084a8e8d0cc5ec905c82f772c12b3101af8d49"
      },
      "cell_type": "markdown",
      "source": "#### Expected output\nNew model precision- 0.39325842696629215\n"
    },
    {
      "metadata": {
        "_uuid": "c870a96ec78013f0e4f8f19cbe306cf5cfc2d880"
      },
      "cell_type": "markdown",
      "source": "### Task\n*Hmmmmm*, this looks strange, its **worse** than the original score.\n\nLets check out the **accuracy** and **F1 scores**."
    },
    {
      "metadata": {
        "trusted": true,
        "_uuid": "3f0add1018ecb6ba7a25ebd4490640ad700cad49"
      },
      "cell_type": "code",
      "source": "new_accuracy_results = accuracy(None, None, None, None)\nprint('New model accuracy- {}'.format(new_accuracy_results))\n\nnew_F1_results = F1(new_precision_results, new_recall_results)\nprint('New model F1- {}'.format(new_F1_results))",
      "execution_count": 31,
      "outputs": [
        {
          "output_type": "stream",
          "text": "New model accuracy- None\nNew model F1- None\n",
          "name": "stdout"
        }
      ]
    },
    {
      "metadata": {
        "_uuid": "a416c8fb98652146751693d8447a88f55e3b78a8"
      },
      "cell_type": "markdown",
      "source": "### Expected output\n* New model accuracy- 0.46\n* New model F1- 0.564516129032258"
    },
    {
      "metadata": {
        "_uuid": "c36595a5ba4d310a7a52e8f75ec70cfcef04f4c7"
      },
      "cell_type": "markdown",
      "source": "Something is definitely wrong here.\n\nLets compare the old with the new"
    },
    {
      "metadata": {
        "trusted": true,
        "_uuid": "3895af29204ef7f3f6d5dac85bd1d1ce2bf35999"
      },
      "cell_type": "code",
      "source": "print('Old Summary')\nprint('Accuracy- {}'.format(accuracy_results))\nprint('Recall- {}'.format(recall_results))\nprint('Precision- {}'.format(precision_results))\nprint('F1 score- {}'.format(f1_results))",
      "execution_count": 32,
      "outputs": [
        {
          "output_type": "stream",
          "text": "Old Summary\nAccuracy- None\nRecall- None\nPrecision- None\nF1 score- None\n",
          "name": "stdout"
        }
      ]
    },
    {
      "metadata": {
        "trusted": true,
        "_uuid": "179ac9e7597f124bad0fd3ffe9dbb52f044332bf"
      },
      "cell_type": "code",
      "source": "print('New_Summary')\nprint('Accuracy- {}'.format(new_accuracy_results))\nprint('Recall- {}'.format(new_recall_results))\nprint('Precision- {}'.format(new_precision_results))\nprint('F1 score- {}'.format(new_F1_results))",
      "execution_count": 33,
      "outputs": [
        {
          "output_type": "stream",
          "text": "New_Summary\nAccuracy- None\nRecall- None\nPrecision- None\nF1 score- None\n",
          "name": "stdout"
        }
      ]
    },
    {
      "metadata": {
        "_uuid": "48fb9e5f3048c7cb263a4363c93acc42d05171bf"
      },
      "cell_type": "markdown",
      "source": "How could we get **perfect recall** with a **decrease in every other metric**.\n\nLet's plot the predicted and expected results."
    },
    {
      "metadata": {
        "trusted": true,
        "_uuid": "793a360e2c58ae06ad56bbf714e1b4e814e5826c"
      },
      "cell_type": "code",
      "source": "new_model_data.apply(pd.Series.value_counts).plot(kind='bar')",
      "execution_count": 34,
      "outputs": [
        {
          "output_type": "execute_result",
          "execution_count": 34,
          "data": {
            "text/plain": "<matplotlib.axes._subplots.AxesSubplot at 0x7f40f2e8efd0>"
          },
          "metadata": {}
        },
        {
          "output_type": "display_data",
          "data": {
            "text/plain": "<Figure size 432x288 with 1 Axes>",
            "image/png": "[encoded data removed]"
          },
          "metadata": {}
        }
      ]
    },
    {
      "metadata": {
        "_uuid": "c3f51e36d82dc20f0c536c62dc7b57dfccf5b7ea"
      },
      "cell_type": "markdown",
      "source": "*Ahhh* do you see what's happened here?\n\nIt looks like the model has **predicted almost everything as a positive class 1**.\n\nThis would certainly increase the recall score, but in turn the model will make a lot of false postives which results in a decrease in accuracy and precision and ultimately a knock on effect of the F1 score."
    },
    {
      "metadata": {
        "_uuid": "b711e4a2f859d95d300a5d31bd4bdcb0356ecbdc"
      },
      "cell_type": "markdown",
      "source": "**Mystery solved!**\n\nEven though we should focus on recall, we should still build a model that has a general performance.\n\nWe relay this information back to our collegue and it's back to the whiteboard for a new model."
    },
    {
      "metadata": {
        "_uuid": "30b8d7b10f9d02677bfa56eb8600948ccb8779c9"
      },
      "cell_type": "markdown",
      "source": "### Task\nNext day our collegue comes up to you, bleary eyed- \"I've cracked it! A generalised model\".\n\nYou load up the experiment data and have another look. "
    },
    {
      "metadata": {
        "trusted": true,
        "_uuid": "7eff0976863815b8832733379fef0ab98e835bdc"
      },
      "cell_type": "code",
      "source": "final_data = pd.read_csv('../input/optimum_data_meetup.csv')\nfinal_data.head()",
      "execution_count": 35,
      "outputs": [
        {
          "output_type": "execute_result",
          "execution_count": 35,
          "data": {
            "text/plain": "   predicted  expected\n0          1         1\n1          1         1\n2          1         1\n3          1         1\n4          1         1",
            "text/html": "<div>\n<style scoped>\n    .dataframe tbody tr th:only-of-type {\n        vertical-align: middle;\n    }\n\n    .dataframe tbody tr th {\n        vertical-align: top;\n    }\n\n    .dataframe thead th {\n        text-align: right;\n    }\n</style>\n<table border=\"1\" class=\"dataframe\">\n  <thead>\n    <tr style=\"text-align: right;\">\n      <th></th>\n      <th>predicted</th>\n      <th>expected</th>\n    </tr>\n  </thead>\n  <tbody>\n    <tr>\n      <th>0</th>\n      <td>1</td>\n      <td>1</td>\n    </tr>\n    <tr>\n      <th>1</th>\n      <td>1</td>\n      <td>1</td>\n    </tr>\n    <tr>\n      <th>2</th>\n      <td>1</td>\n      <td>1</td>\n    </tr>\n    <tr>\n      <th>3</th>\n      <td>1</td>\n      <td>1</td>\n    </tr>\n    <tr>\n      <th>4</th>\n      <td>1</td>\n      <td>1</td>\n    </tr>\n  </tbody>\n</table>\n</div>"
          },
          "metadata": {}
        }
      ]
    },
    {
      "metadata": {
        "_uuid": "cb4cae11a9092928b15a156aa60e0c41d05862a5"
      },
      "cell_type": "markdown",
      "source": "The previous night you read up on an easier way to generate the metrics, sklearn has a couple of API's that save you some time calculating the metrics.\n\nUse the [link](http://scikit-learn.org/stable/modules/generated/sklearn.metrics.accuracy_score.html) to figure out how to use the metrics.\n\nHint- They all follow the same structure."
    },
    {
      "metadata": {
        "trusted": true,
        "_uuid": "b4efde1c66327dac4067e18459d67253bf283016"
      },
      "cell_type": "code",
      "source": "expected_values = final_data['expected']\npredicted_values = final_data['predicted']",
      "execution_count": 36,
      "outputs": []
    },
    {
      "metadata": {
        "trusted": true,
        "_uuid": "e7258dc586f720d173fd70a7830fa599c73ede70"
      },
      "cell_type": "code",
      "source": "from sklearn.metrics import accuracy_score\n# final_idea_accuracy = accuracy_score(None, None)\n# print('Final model accuracy- {}'.format(final_idea_accuracy))",
      "execution_count": 39,
      "outputs": []
    },
    {
      "metadata": {
        "_uuid": "7556c24bbb9ad5fc535f003d90bbd1b8e1a01c98"
      },
      "cell_type": "markdown",
      "source": "#### Expected output\nFinal model accuracy- 0.87\n"
    },
    {
      "metadata": {
        "trusted": true,
        "_uuid": "a3b0a2220721812d89ff161ca11c2f1d628ff0b6"
      },
      "cell_type": "code",
      "source": "from sklearn.metrics import recall_score\n# final_idea_recall = recall_score(None, None)\n# print('Final model recall- {}'.format(final_idea_recall))",
      "execution_count": 40,
      "outputs": []
    },
    {
      "metadata": {
        "_uuid": "f2ce09eae9364e9bae27fc8040505c3999bca07c"
      },
      "cell_type": "markdown",
      "source": "#### Expected output\nFinal model recall- 0.9428571428571428\n"
    },
    {
      "metadata": {
        "trusted": true,
        "_uuid": "f37b346df30d0664c0b2b1113a05286ea9f93361"
      },
      "cell_type": "code",
      "source": "from sklearn.metrics import precision_score\n# final_idea_precision = precision_score(?, ?)\n# print('Final model precision- {}'.format(final_idea_precision))",
      "execution_count": 41,
      "outputs": []
    },
    {
      "metadata": {
        "_uuid": "23abbbdf006a056c39cf602544ad7675e5bb2ff5"
      },
      "cell_type": "markdown",
      "source": "#### Expected output\nFinal model precision- 0.75"
    },
    {
      "metadata": {
        "trusted": true,
        "_uuid": "f4619db09c05f46321085f92ce50573a5cba0376"
      },
      "cell_type": "code",
      "source": "from sklearn.metrics import f1_score\n# final_idea_f1 = f1_score(?, ?)\n# print('Final model precision- {}'.format(final_idea_f1))",
      "execution_count": 42,
      "outputs": []
    },
    {
      "metadata": {
        "_uuid": "38c39b7a811b21a80655628976726837f0b68c6a"
      },
      "cell_type": "markdown",
      "source": "#### Expected output\nFinal model precision- 0.8354430379746834\n"
    },
    {
      "metadata": {
        "trusted": true,
        "_uuid": "bafc38cb6a2f1649e46e3d8d38ca27ad0e227f01"
      },
      "cell_type": "code",
      "source": "from sklearn.metrics import classification_report\nprint(classification_report(expected_values, predicted_values))",
      "execution_count": 43,
      "outputs": [
        {
          "output_type": "stream",
          "text": "              precision    recall  f1-score   support\n\n           0       0.96      0.83      0.89        65\n           1       0.75      0.94      0.84        35\n\n   micro avg       0.87      0.87      0.87       100\n   macro avg       0.86      0.89      0.86       100\nweighted avg       0.89      0.87      0.87       100\n\n",
          "name": "stdout"
        }
      ]
    },
    {
      "metadata": {
        "_uuid": "36e51947976d253f2d30b5811ee1eba5a247ce60"
      },
      "cell_type": "markdown",
      "source": "By using the classification report you can get the full story in a single line of code, this is a pretty powerful bit of code!\n\nLooking at the classification report you can see your collegue has really out done themselves with this model. \n\nJust what the doctor ordered, the model shows greater performance in retreiving the the positive samples, exactly what we want.\n\nThis in turn cause a decrease in precision, but we knew there would be a trade off somewhere in the project.\n\n** Congratulations, you've evaluated your first model! ** "
    },
    {
      "metadata": {
        "_uuid": "28c1bc9f4be948b8b060250df33c149706a30484"
      },
      "cell_type": "markdown",
      "source": "# Regression task\nIn this part of the notebook we will go through our next problem, regression.\n\nThe company has a fresh new problem, predicting the price of precious stones based on demand.\n\nYour brainbox of a collegue has an initial idea and gets to work coding..."
    },
    {
      "metadata": {
        "_uuid": "1dd1ee63642855d3242f835413591f0750a1654b"
      },
      "cell_type": "markdown",
      "source": "### Task\nLoad in the results from the initial experiments."
    },
    {
      "metadata": {
        "trusted": true,
        "_uuid": "8d78a2bc10586234359e839cf9b750b88ab6a46d"
      },
      "cell_type": "code",
      "source": "reg_data = pd.read_csv('../input/regression_data_task-1.csv')",
      "execution_count": 44,
      "outputs": []
    },
    {
      "metadata": {
        "trusted": true,
        "_uuid": "1a1355cc1c5a3ae92e676a2e1d16a1107c57f804"
      },
      "cell_type": "code",
      "source": "reg_data.head()",
      "execution_count": 45,
      "outputs": [
        {
          "output_type": "execute_result",
          "execution_count": 45,
          "data": {
            "text/plain": "          X    expected   predicted\n0  0.302472  -12.920366   29.095872\n1 -1.270485 -169.450038 -122.212574\n2  1.532779  126.660491  147.443609\n3 -1.602058 -118.489628 -154.107754\n4  1.139401  101.139043  109.603097",
            "text/html": "<div>\n<style scoped>\n    .dataframe tbody tr th:only-of-type {\n        vertical-align: middle;\n    }\n\n    .dataframe tbody tr th {\n        vertical-align: top;\n    }\n\n    .dataframe thead th {\n        text-align: right;\n    }\n</style>\n<table border=\"1\" class=\"dataframe\">\n  <thead>\n    <tr style=\"text-align: right;\">\n      <th></th>\n      <th>X</th>\n      <th>expected</th>\n      <th>predicted</th>\n    </tr>\n  </thead>\n  <tbody>\n    <tr>\n      <th>0</th>\n      <td>0.302472</td>\n      <td>-12.920366</td>\n      <td>29.095872</td>\n    </tr>\n    <tr>\n      <th>1</th>\n      <td>-1.270485</td>\n      <td>-169.450038</td>\n      <td>-122.212574</td>\n    </tr>\n    <tr>\n      <th>2</th>\n      <td>1.532779</td>\n      <td>126.660491</td>\n      <td>147.443609</td>\n    </tr>\n    <tr>\n      <th>3</th>\n      <td>-1.602058</td>\n      <td>-118.489628</td>\n      <td>-154.107754</td>\n    </tr>\n    <tr>\n      <th>4</th>\n      <td>1.139401</td>\n      <td>101.139043</td>\n      <td>109.603097</td>\n    </tr>\n  </tbody>\n</table>\n</div>"
          },
          "metadata": {}
        }
      ]
    },
    {
      "metadata": {
        "_uuid": "6776b533ede4f160bbe80910f2276fb5e055d19b"
      },
      "cell_type": "markdown",
      "source": "This is regression evalaution is similiar classification model, but instead of the answers being black and white we want to measure how ** *off* ** our model is.  \n\nWe can measure this by calculating the **difference** between the ** expected value** and the **predicted value**."
    },
    {
      "metadata": {
        "_uuid": "b3bcc68153a06178286c28925f2476e6dfe06b25"
      },
      "cell_type": "markdown",
      "source": "With this information you can plot how the model performs. "
    },
    {
      "metadata": {
        "trusted": true,
        "_uuid": "eef6ec49f61234a8c72eb45d6bb2d94b2882b80e"
      },
      "cell_type": "code",
      "source": "import numpy as np\nfrom matplotlib import pyplot as plt\nX = reg_data['X']\ny = reg_data['expected']\nfig1 = plt.figure(1)\nfig1.set_size_inches(10.5, 10.5)\nframe1= fig1.add_axes((.1,.3,.8,.6))\nplt.title('Predictions and Expected Values')\nplt.plot(X, y,'.b') \npredictions = reg_data['predicted']\nplt.plot(X, predictions,'-r')\nplt.grid()\n\n#Calculate difference\ndifference = predictions - y\n\nframe2=fig1.add_axes((.1,.1,.8,.2))\nplt.title('Residual Error')\nplt.plot(X, difference, 'ob')\nplt.plot(X, [0]*len(predictions), 'r')\nplt.grid()",
      "execution_count": 46,
      "outputs": [
        {
          "output_type": "display_data",
          "data": {
            "text/plain": "<Figure size 756x756 with 2 Axes>",
            "image/png": "[encoded data removed]"
          },
          "metadata": {}
        }
      ]
    },
    {
      "metadata": {
        "_uuid": "8200de062827e3fe4a9132a90dde980c3c980a9f"
      },
      "cell_type": "markdown",
      "source": "### Initial summary\nThe top graph shows the predictions as a red line and the expected results as blue dots.\n\nThe bottom measure the **difference** between the predicted values and the expected values."
    },
    {
      "metadata": {
        "_uuid": "95ccbd81e7ff7fb0ca7adcdaea556b586b42001a"
      },
      "cell_type": "markdown",
      "source": "### Evaluation\nLets see how we can evaluate this regression model."
    },
    {
      "metadata": {
        "trusted": true,
        "_uuid": "d654a39402ee0b5328ce54707be7c72d6383aa7d"
      },
      "cell_type": "code",
      "source": "reg_predictions = reg_data['predicted']\nreg_expected = reg_data['expected']",
      "execution_count": 47,
      "outputs": []
    },
    {
      "metadata": {
        "_uuid": "e47d20fdc1b5165b232f95ae742cb1017f56bcc7"
      },
      "cell_type": "markdown",
      "source": "### Task\nWe'll first try Mean Absolute Error, which can be calculated like this...\n![](https://github.com/Blair-Young/CLDSPN_Model_Evaluation/blob/master/images/MAE.png?raw=True)"
    },
    {
      "metadata": {
        "trusted": true,
        "_uuid": "d89221a7396b1fbe84b6806fe88c8d827d74b771"
      },
      "cell_type": "code",
      "source": "def MAE(prediction_values, expected_values):\n    absolute_difference = abs(prediction_values-expected_values)\n    return np.mean(absolute_difference)",
      "execution_count": 48,
      "outputs": []
    },
    {
      "metadata": {
        "trusted": true,
        "_uuid": "18fa8b60c9760d23f52a8aea2ed04797036d456f"
      },
      "cell_type": "code",
      "source": "mean_absolute_error_result = MAE(reg_predictions, reg_expected)\nprint('Model Mean Absolute Error- {}'.format(mean_absolute_error_result))",
      "execution_count": 49,
      "outputs": [
        {
          "output_type": "stream",
          "text": "Model Mean Absolute Error- 24.140832477812015\n",
          "name": "stdout"
        }
      ]
    },
    {
      "metadata": {
        "_uuid": "3010a128d3741ee9066865af1d2144015397306f"
      },
      "cell_type": "markdown",
      "source": "### Expected output\nModel Mean Absolute Error- 24.140832477812015\n"
    },
    {
      "metadata": {
        "_uuid": "6ccb7862fa12185624a57e767d5c005d3a8d74c7"
      },
      "cell_type": "markdown",
      "source": "### Task\n\nLets try the Root mean square Error next.\n\nThis can be calculated as follows...\n![](https://github.com/Blair-Young/CLDSPN_Model_Evaluation/blob/master/images/RMSE.png?raw=True)"
    },
    {
      "metadata": {
        "trusted": true,
        "_uuid": "a13302dd36238fe5d15aaebda1ad890c5886176f"
      },
      "cell_type": "code",
      "source": "def RMSE(prediction_values, expected_values):\n    difference = None\n    squared_difference = None\n    squared_difference_mean = None\n    square_root = None  # Try np.sqrt\n    return square_root",
      "execution_count": 52,
      "outputs": []
    },
    {
      "metadata": {
        "trusted": true,
        "_uuid": "0b3618f9db30df0c41b0694cc3ecc4d6c6bdca8f"
      },
      "cell_type": "code",
      "source": "root_mean_square_error_result = RMSE(None, None)\nprint('Model Root Mean Square Error- {}'.format(root_mean_square_error_result))",
      "execution_count": 53,
      "outputs": [
        {
          "output_type": "stream",
          "text": "Model Root Mean Square Error- None\n",
          "name": "stdout"
        }
      ]
    },
    {
      "metadata": {
        "_uuid": "1ace1e3ae2cfffca9194554208da5527a7ac3f3e"
      },
      "cell_type": "markdown",
      "source": "### Expected output\nModel Root Mean Square Error- 29.775840226608658\n"
    },
    {
      "metadata": {
        "_uuid": "1b9a829e34532fcabfb86e1ec3fa6c4a5e2a1a7a"
      },
      "cell_type": "markdown",
      "source": "So how can we tell if these metrics are good?\n\nI'm glad you asked!\n\nLet's take the Mean Absolute Error of 24.14 as an example. We can determine the magnitude of the error by looking at the expected values **distributions**.\n"
    },
    {
      "metadata": {
        "trusted": true,
        "_uuid": "c98f5253d417943a20fe5943c6accf1c9d20bc42"
      },
      "cell_type": "code",
      "source": "reg_expected.plot.density()",
      "execution_count": 54,
      "outputs": [
        {
          "output_type": "execute_result",
          "execution_count": 54,
          "data": {
            "text/plain": "<matplotlib.axes._subplots.AxesSubplot at 0x7f40d3ec8d68>"
          },
          "metadata": {}
        },
        {
          "output_type": "display_data",
          "data": {
            "text/plain": "<Figure size 432x288 with 1 Axes>",
            "image/png": "[encoded data removed]"
          },
          "metadata": {}
        }
      ]
    },
    {
      "metadata": {
        "_uuid": "8e85c731ab54677c3822ae249871d095aa263550"
      },
      "cell_type": "markdown",
      "source": "As you can see the majority of the expected values falls between -100 and +100, a window of approximately 200. \n\nIn the grand scheme of things being on average 24.14 off units off when the majority of the data falls between 200, isn't too bad."
    },
    {
      "metadata": {
        "_uuid": "406f04cd09cb6c74d35644d357b21cc89159f8c3"
      },
      "cell_type": "markdown",
      "source": "### New Test data\nThe next day your boss gives you a brand new dataset to test your model on."
    },
    {
      "metadata": {
        "_uuid": "6026b72d04e726075284498188d4525487d021ab"
      },
      "cell_type": "markdown",
      "source": "### Task\nLet's load it up and perform some evaluations."
    },
    {
      "metadata": {
        "trusted": true,
        "_uuid": "e9c61e933c0766e8bd4eb625a1784de96027f3d0"
      },
      "cell_type": "code",
      "source": "reg_data_2 = pd.read_csv('../input/regression_data_task-2.csv')",
      "execution_count": 55,
      "outputs": []
    },
    {
      "metadata": {
        "trusted": true,
        "_uuid": "aeb8143889296be3abb54200d6d261101f5e6ffa"
      },
      "cell_type": "code",
      "source": "new_reg_predicted = reg_data_2['predicted']\nnew_reg_expected = reg_data_2['expected']",
      "execution_count": 56,
      "outputs": []
    },
    {
      "metadata": {
        "trusted": true,
        "_uuid": "00514729aec69069a714205a9758e56810d8129e",
        "scrolled": true
      },
      "cell_type": "code",
      "source": "# new_mean_absolute_error_result = MAE(None, None)\n# print('Model Mean Absolute Error- {}'.format(new_mean_absolute_error_result))",
      "execution_count": 59,
      "outputs": []
    },
    {
      "metadata": {
        "_uuid": "9cbc174640225de599adeb59413fb33e56ba0287"
      },
      "cell_type": "markdown",
      "source": "#### Expected Output\nModel Mean Absolute Error- 14.388128610979503\n"
    },
    {
      "metadata": {
        "_uuid": "beea6f9c8e0075f1041229df6f5ab39198fbda15"
      },
      "cell_type": "markdown",
      "source": "OK, our model has a smaller MAE, indicating that its a better model.\n\nAmazing! Fly the flags, we've completed the project!"
    },
    {
      "metadata": {
        "_uuid": "ecdd65e51f256ca2ff11085d393cbfe32ddf86cf"
      },
      "cell_type": "markdown",
      "source": "### Task\nWe'll just check the RMSE to be safe..."
    },
    {
      "metadata": {
        "trusted": true,
        "_uuid": "3b4eabe491f2ef664d718f3264bd65b7d143364c"
      },
      "cell_type": "code",
      "source": "new_root_mean_square_error_result = RMSE(None, None)\nprint('Model Root Mean Square Error- {}'.format(new_root_mean_square_error_result))",
      "execution_count": 61,
      "outputs": [
        {
          "output_type": "stream",
          "text": "Model Root Mean Square Error- None\n",
          "name": "stdout"
        }
      ]
    },
    {
      "metadata": {
        "_uuid": "017e1c85245cc3a1ad4bf74d23703f2a59c8a1e2"
      },
      "cell_type": "markdown",
      "source": "#### Expected output\nModel Root Mean Square Error- 45.413821640172124\n"
    },
    {
      "metadata": {
        "_uuid": "2675871a038ad60f14f037a6ed7380683ca6df14"
      },
      "cell_type": "markdown",
      "source": "** * Oh dear* **, that's not what we were expecting, our RMSE has shot through the roof.\n\nHow can our MAE drop by nearly half, yet have such a massive increase in RMSE?\n\nBefore we go any further have a think about what it could be..."
    },
    {
      "metadata": {
        "trusted": true,
        "_uuid": "affadbc967bd5b47e031a71d3eecbf4bf386b1e7"
      },
      "cell_type": "code",
      "source": "X_new = reg_data_2['X']\ny_new = reg_data_2['expected']\n\nfig2 = plt.figure(2)\nfig2.set_size_inches(10.5, 10.5)\nframe1= fig2.add_axes((.1,.3,.8,.6))\nplt.title('Predictions and Expected Values')\nplt.plot(X_new, new_reg_expected,'.b') \n\n# predictions_2 = np.dot(new_reg_predicted, coef_2)\n\nplt.plot(X_new, new_reg_predicted,'-r')\nplt.grid()\n\n#Calculate difference\nnew_difference = new_reg_predicted - y_new\n\nframe2= fig2.add_axes((.1,.1,.8,.2))\nplt.title('Residual Error')\nplt.plot(X_new, new_difference, 'ob')\nplt.plot(X_new, [0]*len(X_new), 'r')\nplt.ylim(-400, 300)\nplt.grid()",
      "execution_count": 62,
      "outputs": [
        {
          "output_type": "display_data",
          "data": {
            "text/plain": "<Figure size 756x756 with 2 Axes>",
            "image/png": "[encoded data removed]"
          },
          "metadata": {}
        }
      ]
    },
    {
      "metadata": {
        "_uuid": "ee967598db92e064ca86e1dc6a4f6a42e07d08fb"
      },
      "cell_type": "markdown",
      "source": "### Summary\nAh there it is! Can you see them? Look at the blue dots that are much further away from the red line in comparision to the others. These are called **outliers** are the bane of RMSE's life.\n\nIf we think back to how we calculate RMSE, you'll remember it's **indiffernt to the direction**, it only cares about the **maginitude of the error**. \n\nHow RMSE gets around its indifference to direction (whether the model undershoots or overshoots a prediction), is by **squaring** the differences.\n\n* If we square two positives- we get a **positive**\n* If we square two negatives- we get a **positive**\n\nThe down side to squaring is that it will **amplify** the magnitude of the error.\n\nThis means that if we have **unexpected expected values** (outliers) our metric will hold the model much more accountable for the mistakes than if we used the Mean Absolute Error. "
    },
    {
      "metadata": {
        "_uuid": "97ae26dd3396b29b7eaad52cc4eb3236aec4fd89"
      },
      "cell_type": "markdown",
      "source": "### Outlier investigation\n\nLets do a quick analysis on the outliers and then remove them.\n\nThere's a suspicious number of expected values around 0, maybe our sensors were broken that day. (We should probably look into this as a separate issue). \n\n"
    },
    {
      "metadata": {
        "trusted": true,
        "_uuid": "7fef59be31fedd43ec59f9addffb1110368e9835"
      },
      "cell_type": "code",
      "source": "new_difference.plot.hist()",
      "execution_count": 63,
      "outputs": [
        {
          "output_type": "execute_result",
          "execution_count": 63,
          "data": {
            "text/plain": "<matplotlib.axes._subplots.AxesSubplot at 0x7f40d03c8588>"
          },
          "metadata": {}
        },
        {
          "output_type": "display_data",
          "data": {
            "text/plain": "<Figure size 432x288 with 1 Axes>",
            "image/png": "[encoded data removed]"
          },
          "metadata": {}
        }
      ]
    },
    {
      "metadata": {
        "trusted": true,
        "_uuid": "cc8dbfbac328aadf7ff523a3c766cf739ae4eaca"
      },
      "cell_type": "code",
      "source": "new_difference.plot.density()",
      "execution_count": 64,
      "outputs": [
        {
          "output_type": "execute_result",
          "execution_count": 64,
          "data": {
            "text/plain": "<matplotlib.axes._subplots.AxesSubplot at 0x7f40d033c0f0>"
          },
          "metadata": {}
        },
        {
          "output_type": "display_data",
          "data": {
            "text/plain": "<Figure size 432x288 with 1 Axes>",
            "image/png": "[encoded data removed]"
          },
          "metadata": {}
        }
      ]
    },
    {
      "metadata": {
        "_uuid": "6cce8227da7c77a88bc75514221e239b4036d5fe"
      },
      "cell_type": "markdown",
      "source": "OK cool, looks like our errors follow standard distribution.\n\nWith only a handful falling outside approximately **2 standard deviations** from the **normal**."
    },
    {
      "metadata": {
        "_uuid": "81dd3bb51dbe9e32b191f0dc89648323d96f4d88"
      },
      "cell_type": "markdown",
      "source": "### Task\nRun this cleaning function to remove outliers."
    },
    {
      "metadata": {
        "trusted": true,
        "_uuid": "e90de3113ca70558c26607859b482fa184298b0a"
      },
      "cell_type": "code",
      "source": "# add column for difference to dataframe\nreg_data_2['difference'] = new_difference\n\ndef remove_outliers(df):\n    # Calculate mean of differences\n    mean = np.mean(df['difference'])\n    \n    # Calculate standard deviations of differences\n    sd = np.std(df['difference'])\n    \n    # Filtering out values 2 standard deviations away from both sides of the mean.\n    upper_removed = df[df['difference'] > mean - 2 * sd]\n    df = upper_removed[upper_removed['difference'] < mean + 2 * sd]\n    return df\n",
      "execution_count": 65,
      "outputs": []
    },
    {
      "metadata": {
        "trusted": true,
        "_uuid": "ad7f1300a87607a525d192b2d30e9cc3ef7fb11a"
      },
      "cell_type": "code",
      "source": "outliers_removed_data = remove_outliers(reg_data_2)",
      "execution_count": 66,
      "outputs": []
    },
    {
      "metadata": {
        "trusted": true,
        "_uuid": "c57d53d41ad21b8b4ec90ece4d70bce27aac4f06"
      },
      "cell_type": "code",
      "source": "X_clean = outliers_removed_data['X']\ny_clean = outliers_removed_data['expected']\npredictions_clean = outliers_removed_data['predicted']\n\nfig3 = plt.figure(2)\nfig3.set_size_inches(10.5, 10.5)\nframe1= fig3.add_axes((.1,.3,.8,.6))\nplt.title('Predictions and Expected Values')\nplt.plot(X_clean, y_clean,'.b') \n\nplt.plot(X_clean, predictions_clean,'-r')\nplt.grid()\n\n#Calculate difference\ndifference_clean = predictions_clean - y_clean\n\nframe2= fig3.add_axes((.1,.1,.8,.2))\nplt.title('Residual Error')\nplt.plot(X_clean, difference_clean, 'ob')\nplt.plot(X_clean, [0]*len(X_clean), 'r')\nplt.ylim(-400, 300)\nplt.grid()",
      "execution_count": 67,
      "outputs": [
        {
          "output_type": "display_data",
          "data": {
            "text/plain": "<Figure size 756x756 with 2 Axes>",
            "image/png": "[encoded data removed]"
          },
          "metadata": {}
        }
      ]
    },
    {
      "metadata": {
        "_uuid": "62fe9ea830147592d42f61de563ecd0a66f7a6c2"
      },
      "cell_type": "markdown",
      "source": "### Summary\nLooks better! There's a few expected values still at zero. This could be a problem with our sensors. \n\nLet's treat these as outliers and remove them.\n\nWe should also let someone on the engineering team know that some of the sensors could be broken."
    },
    {
      "metadata": {
        "_uuid": "35b74f4f7e786f0b822689f7aeb46424260818e9"
      },
      "cell_type": "markdown",
      "source": "### Task\nComplete the function to remove all 0 values from expected column. \n\nHere's the dataset you will be cleaning."
    },
    {
      "metadata": {
        "trusted": true,
        "_uuid": "07052cfca03dabecc38b0c9744f6bfa2ff324051"
      },
      "cell_type": "code",
      "source": "outliers_removed_data.head()",
      "execution_count": 68,
      "outputs": [
        {
          "output_type": "execute_result",
          "execution_count": 68,
          "data": {
            "text/plain": "          X    expected   predicted  difference\n0  0.302472   22.093166   29.095872    7.002706\n2  1.532779  143.979756  147.443609    3.463853\n3 -1.602058 -148.171400 -154.107754   -5.936354\n4  1.139401  108.192421  109.603097    1.410676\n5 -0.509652  -39.418563  -49.025297   -9.606735",
            "text/html": "<div>\n<style scoped>\n    .dataframe tbody tr th:only-of-type {\n        vertical-align: middle;\n    }\n\n    .dataframe tbody tr th {\n        vertical-align: top;\n    }\n\n    .dataframe thead th {\n        text-align: right;\n    }\n</style>\n<table border=\"1\" class=\"dataframe\">\n  <thead>\n    <tr style=\"text-align: right;\">\n      <th></th>\n      <th>X</th>\n      <th>expected</th>\n      <th>predicted</th>\n      <th>difference</th>\n    </tr>\n  </thead>\n  <tbody>\n    <tr>\n      <th>0</th>\n      <td>0.302472</td>\n      <td>22.093166</td>\n      <td>29.095872</td>\n      <td>7.002706</td>\n    </tr>\n    <tr>\n      <th>2</th>\n      <td>1.532779</td>\n      <td>143.979756</td>\n      <td>147.443609</td>\n      <td>3.463853</td>\n    </tr>\n    <tr>\n      <th>3</th>\n      <td>-1.602058</td>\n      <td>-148.171400</td>\n      <td>-154.107754</td>\n      <td>-5.936354</td>\n    </tr>\n    <tr>\n      <th>4</th>\n      <td>1.139401</td>\n      <td>108.192421</td>\n      <td>109.603097</td>\n      <td>1.410676</td>\n    </tr>\n    <tr>\n      <th>5</th>\n      <td>-0.509652</td>\n      <td>-39.418563</td>\n      <td>-49.025297</td>\n      <td>-9.606735</td>\n    </tr>\n  </tbody>\n</table>\n</div>"
          },
          "metadata": {}
        }
      ]
    },
    {
      "metadata": {
        "trusted": true,
        "_uuid": "0ffed7b156ad656979efc2afe716a278a44efb4d"
      },
      "cell_type": "code",
      "source": "def remove_0_outliers(df):\n    return",
      "execution_count": 70,
      "outputs": []
    },
    {
      "metadata": {
        "trusted": true,
        "_uuid": "7312bc2eb53bd0f84ccd7cfbfd76433b729b7ee2"
      },
      "cell_type": "code",
      "source": "# cleaned_data = remove_0_outliers(outliers_removed_data)\n# cleaned_data[cleaned_data['expected']==0]",
      "execution_count": 72,
      "outputs": []
    },
    {
      "metadata": {
        "trusted": true,
        "_uuid": "a6d84bd08f723a9bf4d1366a46fe0f99b13105f4"
      },
      "cell_type": "code",
      "source": "### Expected output\n# cleaned_data[cleaned_data['expected']==0]",
      "execution_count": 73,
      "outputs": []
    },
    {
      "metadata": {
        "_uuid": "1ba308023cbbbf461f2b75b730c237c4ce7f8cbd"
      },
      "cell_type": "markdown",
      "source": "### Task\nLet's run it through the visualization code to see if we've removed the potential outliers."
    },
    {
      "metadata": {
        "trusted": true,
        "_uuid": "999cfb8bb30c9dc392438b1ff4978bd17e46aff8"
      },
      "cell_type": "code",
      "source": "# Uncomment this to run\n# X_clean = cleaned_data['X']\n# y_clean = cleaned_data['expected']\n# predictions_clean = cleaned_data['predicted']\n\n# fig3 = plt.figure(2)\n# plt.title('ok')\n# fig3.set_size_inches(10.5, 10.5)\n# frame1= fig3.add_axes((.1,.3,.8,.6))\n# plt.title('Predictions and Expected Values')\n# plt.plot(X_clean, y_clean,'.b') \n\n# plt.plot(X_clean, predictions_clean,'-r')\n# plt.grid()\n\n# #Calculate difference\n# difference_clean = predictions_clean - y_clean\n\n# frame2= fig3.add_axes((.1,.1,.8,.2))\n# plt.title('Residual Error')\n# plt.plot(X_clean, difference_clean, 'ob')\n# plt.plot(X_clean, [0]*185, 'r')\n# plt.ylim(-400, 300)\n# plt.grid()",
      "execution_count": 75,
      "outputs": []
    },
    {
      "metadata": {
        "_uuid": "d4f00371bab51ef8d353894acc7d7613f8857b84"
      },
      "cell_type": "markdown",
      "source": "### Summary\nLooks good! Seems to be no outliers in the dataset.\n\nWe'll perform our evalutation metrics for the final time.\n\n### Task\nCalculate the [Mean Absolute Error](http://scikit-learn.org/stable/modules/generated/sklearn.metrics.mean_absolute_error.html) using the metric API from Sklearn."
    },
    {
      "metadata": {
        "trusted": true,
        "collapsed": true,
        "_uuid": "9861f55c6eaf692828ec97f27367599a2b74c405"
      },
      "cell_type": "code",
      "source": "# clean_predicted = cleaned_data['predicted']\n# clean_expected = cleaned_data['expected']",
      "execution_count": null,
      "outputs": []
    },
    {
      "metadata": {
        "trusted": true,
        "_uuid": "7ea313b746ed54f4befdb73a0a6365db8f853a73"
      },
      "cell_type": "code",
      "source": "from sklearn.metrics import mean_absolute_error\n# cleaned_mean_absolute_error_result = mean_absolute_error(?, ?)\n# print('Model Mean Absolute Error- {}'.format(cleaned_mean_absolute_error_result))",
      "execution_count": 76,
      "outputs": []
    },
    {
      "metadata": {
        "_uuid": "79a6fd08fe510d37f56d558ae093fa256ef2884a"
      },
      "cell_type": "markdown",
      "source": "### Expected Output\nModel Mean Absolute Error- 4.068437513183244\n"
    },
    {
      "metadata": {
        "_uuid": "af5dce70a44304acfd770786624777a79c3271ca"
      },
      "cell_type": "markdown",
      "source": "### Task\nCalculate the Root Mean Square Error using [Sklearn's API](http://scikit-learn.org/stable/modules/generated/sklearn.metrics.mean_squared_error.html).\n\nHint- There's one step missing from Sklearn's API.\n\n"
    },
    {
      "metadata": {
        "trusted": true,
        "_uuid": "7355a37eec692a5ceb0c81837bc2ec319996d2bc"
      },
      "cell_type": "code",
      "source": "from sklearn.metrics import mean_squared_error\n\n# cleaned_mean_square_error_result = mean_squared_error(None, None)\n# cleaned_root_mean_square_error_result = None\n# print('Model Root Mean Square Error- {}'.format(cleaned_root_mean_square_error_result))",
      "execution_count": 78,
      "outputs": []
    },
    {
      "metadata": {
        "_uuid": "14081609798cb2cbeb5d0b3f74460535a68594a0"
      },
      "cell_type": "markdown",
      "source": "### Expected output\nModel Root Mean Square Error- 4.996702645425557\n"
    },
    {
      "metadata": {
        "_uuid": "b67ecf0f59fcdd2c2f61abb5e2167ae9b9b324ed"
      },
      "cell_type": "markdown",
      "source": "The RMSE has dropped conciderably,** *phew* **."
    },
    {
      "metadata": {
        "_uuid": "a88b26cb8576a8b315c7055f865ccd2db6044fdb"
      },
      "cell_type": "markdown",
      "source": "### Congratulations!\nSo thats the end of the tutorial, I hope had a bit of fun calculating, evaluating and appreciating evaluation metrics.\n\nIf you have some more time, see if you can build a linear model for these datasets.\n\n**Remember to ask yourself what kind of metrics best suit your problem**.\nWill you want a model thats optimized for gather a certain class or being super exclusive in its choices? Is the evaluation data messy and full of outliers?"
    },
    {
      "metadata": {
        "_uuid": "207c1ef90c2c75b66301dd8cef2505f4598f25a1"
      },
      "cell_type": "markdown",
      "source": "# Optional Task\nYou've been given the problem of **detecting fraudulent banknotes**. You come across a dataset detailing image sensor data for banknotes. \n\nLet's see if we can build a model that detects if a banknote is fraudulent. \n\nMore information can be found [here](https://archive.ics.uci.edu/ml/datasets/banknote+authentication)."
    },
    {
      "metadata": {
        "trusted": true,
        "_uuid": "c02c5ba799d90300856fbb29b26589f44b0add0e"
      },
      "cell_type": "code",
      "source": "banknotes_data = pd.read_csv('../input/banknotes_X.csv')\nbanknotes_labels = pd.read_csv('../input/banknotes_y.csv')",
      "execution_count": 79,
      "outputs": []
    },
    {
      "metadata": {
        "trusted": true,
        "_uuid": "bdcdd1706f1cb8742a66fa8b789c1e82b5c32b0f"
      },
      "cell_type": "code",
      "source": "from sklearn.model_selection import train_test_split\nX_train_class, X_test_class, y_train_class, y_test_class = train_test_split(banknotes_data, banknotes_labels, test_size=0.33, random_state=420)",
      "execution_count": 80,
      "outputs": []
    },
    {
      "metadata": {
        "trusted": true,
        "_uuid": "0fd6838ff720d936d4897a8918cb644baf067c5c"
      },
      "cell_type": "code",
      "source": "from sklearn.linear_model import LogisticRegression\n### Code here",
      "execution_count": 81,
      "outputs": []
    },
    {
      "metadata": {
        "_uuid": "02e7341104b734ae00039224a16404d51ac0edef"
      },
      "cell_type": "markdown",
      "source": "# Optional Task\nThis project requires your team to build a model aiming to understand the underlying relationship between patient attributes and progression of diabetes.\n\nSklearn already provides us with this data.\n\nCheck out this [link](http://scikit-learn.org/stable/datasets/index.html#diabetes-dataset) for more information.\n"
    },
    {
      "metadata": {
        "trusted": true,
        "_uuid": "43f33f76e6db38cddc200f18090a2596405dff19"
      },
      "cell_type": "code",
      "source": "from sklearn.datasets import load_diabetes\ndata_diabetes = load_diabetes()\nX_train_reg, X_test_reg, y_train_reg, y_test_reg = train_test_split(data_diabetes['data'], data_diabetes['target'], test_size=0.33, random_state=420)",
      "execution_count": 82,
      "outputs": []
    },
    {
      "metadata": {
        "trusted": true,
        "_uuid": "a912496bad9f0d75dba007e31fea96a02364ecd7"
      },
      "cell_type": "code",
      "source": "from sklearn.linear_model import LinearRegression\n### code here",
      "execution_count": 84,
      "outputs": []
    },
    {
      "metadata": {
        "trusted": true,
        "_uuid": "6b6428a958b2a96cf8aef4093d6b7cbf5ef9eaf5"
      },
      "cell_type": "code",
      "source": "",
      "execution_count": null,
      "outputs": []
    }
  ],
  "metadata": {
    "kernelspec": {
      "display_name": "Python 3",
      "language": "python",
      "name": "python3"
    },
    "language_info": {
      "name": "python",
      "version": "3.6.6",
      "mimetype": "text/x-python",
      "codemirror_mode": {
        "name": "ipython",
        "version": 3
      },
      "pygments_lexer": "ipython3",
      "nbconvert_exporter": "python",
      "file_extension": ".py"
    },
    "latex_envs": {
      "LaTeX_envs_menu_present": true,
      "autocomplete": true,
      "bibliofile": "biblio.bib",
      "cite_by": "apalike",
      "current_citInitial": 1,
      "eqLabelWithNumbers": true,
      "eqNumInitial": 1,
      "hotkeys": {
        "equation": "Ctrl-E",
        "itemize": "Ctrl-I"
      },
      "labels_anchors": false,
      "latex_user_defs": false,
      "report_style_numbering": false,
      "user_envs_cfg": false
    }
  },
  "nbformat": 4,
  "nbformat_minor": 1
}